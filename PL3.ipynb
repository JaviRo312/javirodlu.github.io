{
  "nbformat": 4,
  "nbformat_minor": 0,
  "metadata": {
    "colab": {
      "name": "PL3.ipynb",
      "provenance": [],
      "collapsed_sections": []
    },
    "kernelspec": {
      "name": "python3",
      "display_name": "Python 3"
    },
    "language_info": {
      "name": "python"
    }
  },
  "cells": [
    {
      "cell_type": "code",
      "execution_count": null,
      "metadata": {
        "id": "4KAr0q3BPL7k"
      },
      "outputs": [],
      "source": [
        "import pandas as pd\n",
        "import numpy as np\n",
        "import matplotlib.pyplot as plt\n",
        "#Librerias para KNN\n",
        "from sklearn.datasets import load_breast_cancer\n",
        "from sklearn.model_selection import train_test_split\n",
        "from sklearn.neighbors import KNeighborsClassifier\n",
        "from sklearn.model_selection import cross_val_score\n",
        "#Librerias para Arbol\n",
        "from sklearn import datasets\n",
        "from sklearn.metrics import mean_squared_error\n",
        "from sklearn.tree import DecisionTreeClassifier\n",
        "#Librerias para Naive Bayes\n",
        "from sklearn import metrics\n",
        "from sklearn.naive_bayes import GaussianNB\n",
        "#Librerias para Perceptron\n",
        "from sklearn.linear_model import Perceptron"
      ]
    },
    {
      "cell_type": "markdown",
      "source": [
        "DATOS DEL EJERCICIO 8 DE LA PL2"
      ],
      "metadata": {
        "id": "gHEPhu_zeRNa"
      }
    },
    {
      "cell_type": "code",
      "source": [
        "import xlrd\n",
        "datosCancerPulmon = pd.read_csv(\"/content/DatosCancerPulmon.csv\")\n",
        "\n",
        "datosCancerPulmon2 = datosCancerPulmon.copy()\n",
        "\n",
        "X= np.array(datosCancerPulmon)\n",
        "\n",
        "Y = X[:, -1]\n",
        "\n",
        "print(len(X))\n",
        "print(len(Y))"
      ],
      "metadata": {
        "id": "HMF-lMdueQSq",
        "colab": {
          "base_uri": "https://localhost:8080/"
        },
        "outputId": "f2fc8870-e514-4378-bf9b-9154f050eb5d"
      },
      "execution_count": null,
      "outputs": [
        {
          "output_type": "stream",
          "name": "stdout",
          "text": [
            "307\n",
            "307\n"
          ]
        }
      ]
    },
    {
      "cell_type": "markdown",
      "source": [
        "Oversamplig (muestras sintéticas)"
      ],
      "metadata": {
        "id": "uufFCj3yeucn"
      }
    },
    {
      "cell_type": "code",
      "source": [
        "#Division en conjuntos de datos de entrenamiento y test, asignamos de momento 90 de entrenamiento y 10 test\n",
        "\n",
        "X_Entrenamiento, X_test, Y_Entrenamiento, Y_test = train_test_split(X, Y, test_size=0.1, random_state=0)\n",
        "\n",
        "#Oversampling#creamos una función que crea el modelo que usaremos cada vez\n",
        "from imblearn.over_sampling import RandomOverSampler\n",
        "from collections import Counter\n",
        "from sklearn.linear_model import LogisticRegression\n",
        "from sklearn.metrics import confusion_matrix\n",
        "import seaborn as sns\n",
        "from sklearn.metrics import classification_report\n",
        "\"\"\"\n",
        "def run_model(X_train, X_test, y_train, y_test):\n",
        "    clf_base = LogisticRegression(C=1.0,penalty='none',random_state=1,solver=\"newton-cg\")\n",
        "    clf_base.fit(X_train, y_train)\n",
        "    return clf_base\n",
        "\"\"\"\n",
        "#definimos funciona para mostrar los resultados\n",
        "\"\"\"def mostrar_resultados(y_test, pred_y):\n",
        "    conf_matrix = confusion_matrix(y_test, pred_y)\n",
        "    plt.figure(figsize=(12, 12))\n",
        "    sns.heatmap(conf_matrix, xticklabels='LABELS', yticklabels='LABELS', annot=True, fmt=\"d\");\n",
        "    plt.title(\"Confusion matrix\")\n",
        "    plt.ylabel('True class')\n",
        "    plt.xlabel('Predicted class')\n",
        "    plt.show()\n",
        "    print (classification_report(y_test, pred_y))\n",
        "\"\"\"\n",
        "def mostrar_resultados(y_test, pred_y):\n",
        "    print (classification_report(y_test, pred_y))\n",
        "os =  RandomOverSampler(sampling_strategy=0.5)\n",
        "X_Entrenamiento_res, Y_Entrenamiento_res = os.fit_resample(X_Entrenamiento, Y_Entrenamiento)\n",
        "\n",
        "print (\"Distribucion antes de las muestras artificiales {}\".format(Counter(Y_Entrenamiento)))\n",
        "print (\"Distribucion antes de las muestras artificiales {}\".format(Counter(Y_Entrenamiento_res)))\n",
        "\n",
        "\n",
        "#model = run_model(X_Entrenamiento_res, X_test, Y_Entrenamiento_res, Y_test)\n",
        "#pred_y = model.predict(X_test)\n",
        "#mostrar_resultados(Y_test, pred_y)\n"
      ],
      "metadata": {
        "id": "TQkxJ2yPeX3j",
        "colab": {
          "base_uri": "https://localhost:8080/"
        },
        "outputId": "291bc2d4-bbb7-4927-a56d-bf36c9bc8108"
      },
      "execution_count": null,
      "outputs": [
        {
          "output_type": "stream",
          "name": "stdout",
          "text": [
            "Distribucion antes de las muestras artificiales Counter({1: 241, 0: 35})\n",
            "Distribucion antes de las muestras artificiales Counter({1: 241, 0: 120})\n"
          ]
        }
      ]
    },
    {
      "cell_type": "code",
      "source": [
        "#Dividimos el 10% del conjunto de test en 5% de test y 5% de validacion\n",
        "X_validation, X_test, Y_validation, Y_test = train_test_split(X_test, Y_test, test_size=0.5, random_state=0)\n"
      ],
      "metadata": {
        "id": "SEwPwg-LxcmJ"
      },
      "execution_count": null,
      "outputs": []
    },
    {
      "cell_type": "markdown",
      "source": [
        "KNN"
      ],
      "metadata": {
        "id": "Hlj1borCms3M"
      }
    },
    {
      "cell_type": "code",
      "source": [
        "list_k=range(1,31)\n",
        "list_f1= []\n",
        "list_precesion= []\n",
        "\n",
        "for i in list_k:\n",
        "  #Hiperparametro K de KNN\n",
        "  k=KNeighborsClassifier(n_neighbors=i)\n",
        "\n",
        "  k.fit(X_Entrenamiento_res,Y_Entrenamiento_res)\n",
        "\n",
        "  precision = cross_val_score(k,X_Entrenamiento_res,Y_Entrenamiento_res,cv=5,scoring='accuracy')#para precisión en la clasificación\n",
        "  f1 = cross_val_score(k,X_Entrenamiento_res,Y_Entrenamiento_res,cv=5,scoring='f1')# para la función de pérdida de regresión\n",
        " \n",
        "\n",
        "  list_precesion.append(precision.mean())\n",
        "  list_f1.append(f1.mean())\n",
        "  \n",
        "#Grafico\n",
        "plt.subplot(1,2,1)\n",
        "plt.plot(list_k,list_precesion)\n",
        "plt.xlabel(\"Valor de la profundidad\")\n",
        "plt.ylabel(\"Cross-validates Accuracy\")\n",
        "plt.subplot(1,2,2)\n",
        "plt.plot(list_k,list_f1)\n",
        "plt.xlabel(\"Valor de la profundidad\")\n",
        "plt.ylabel(\"Cross-validates F1\")\n",
        "plt.show()"
      ],
      "metadata": {
        "id": "jPpZ6ZVOeZci",
        "colab": {
          "base_uri": "https://localhost:8080/",
          "height": 279
        },
        "outputId": "f0ae3b1e-6f40-4268-e0c4-ae7f51212181"
      },
      "execution_count": null,
      "outputs": [
        {
          "output_type": "display_data",
          "data": {
            "image/png": "[encoded data removed]",
            "text/plain": [
              "<Figure size 432x288 with 2 Axes>"
            ]
          },
          "metadata": {
            "needs_background": "light"
          }
        }
      ]
    },
    {
      "cell_type": "markdown",
      "source": [
        "NAÏVE BAYES"
      ],
      "metadata": {
        "id": "S1CmdmNxenQj"
      }
    },
    {
      "cell_type": "code",
      "source": [
        "X_Bayes=X_Entrenamiento_res\n",
        "Y_Bayes = Y_Entrenamiento_res"
      ],
      "metadata": {
        "id": "8vrbibHPHfDb"
      },
      "execution_count": null,
      "outputs": []
    },
    {
      "cell_type": "code",
      "source": [
        "\n",
        "list_bucle=range(1,30)\n",
        "list_f1= []\n",
        "list_precesion= []\n",
        "\n",
        "list_smooth = []\n",
        "for i in list_bucle:\n",
        "  \n",
        "  list_smooth.append(i*1e-3)\n",
        "\n",
        "  modeloNB =  GaussianNB(var_smoothing = list_smooth[i-1])\n",
        "  modeloNB.fit(X_Bayes, Y_Bayes)\n",
        "  precision = cross_val_score(modeloNB, X_Bayes, Y_Bayes, cv = 5, scoring='accuracy')#para precisión en la clasificación\n",
        "  \n",
        "  f1 = cross_val_score(modeloNB,X_Bayes,Y_Bayes,cv=10,scoring='f1')# para la función de pérdida de regresión\n",
        " \n",
        "  list_precesion.append(precision.mean())\n",
        "  list_f1.append(f1.mean())\n",
        "#Grafico\n",
        "print(list_precesion)\n",
        "plt.subplot(1,2,1)\n",
        "plt.plot(list_smooth,list_precesion)\n",
        "plt.xlabel(\"Valor de Smooth\")\n",
        "plt.ylabel(\"Cross-validates Accuracy\")\n",
        "plt.subplot(1,2,2)\n",
        "plt.plot(list_smooth,list_f1)\n",
        "plt.xlabel(\"Valor de Smooth\")\n",
        "plt.ylabel(\"Cross-validates F1\")\n",
        "plt.show()\n",
        "\n"
      ],
      "metadata": {
        "id": "tFumhhGOem72",
        "colab": {
          "base_uri": "https://localhost:8080/",
          "height": 316
        },
        "outputId": "f87b3a53-dc13-4860-f87d-c81352fe2bb1"
      },
      "execution_count": null,
      "outputs": [
        {
          "output_type": "stream",
          "name": "stdout",
          "text": [
            "[1.0, 1.0, 0.9972222222222221, 0.9944444444444445, 0.9916666666666666, 0.9778158295281584, 0.975076103500761, 0.975076103500761, 0.9695205479452055, 0.9639649923896499, 0.9639649923896499, 0.9612252663622527, 0.9473363774733639, 0.9473363774733639, 0.944558599695586, 0.944558599695586, 0.9418188736681887, 0.9418188736681887, 0.9252283105022832, 0.9224505327245053, 0.9196727549467276, 0.9168949771689497, 0.9169330289193303, 0.9169330289193303, 0.9030441400304413, 0.8947108066971081, 0.8863774733637747, 0.8835996955859968, 0.8725646879756468]\n"
          ]
        },
        {
          "output_type": "display_data",
          "data": {
            "image/png": "[encoded data removed]",
            "text/plain": [
              "<Figure size 432x288 with 2 Axes>"
            ]
          },
          "metadata": {
            "needs_background": "light"
          }
        }
      ]
    },
    {
      "cell_type": "markdown",
      "source": [
        "ÁRBOL DE Clasificacion"
      ],
      "metadata": {
        "id": "nxG9zkIZee1e"
      }
    },
    {
      "cell_type": "code",
      "source": [
        "X_Arbol=X_Entrenamiento_res[:,:-1]\n",
        "Y_Arbol = X_Entrenamiento_res[:, -1]"
      ],
      "metadata": {
        "id": "6AEJGofFxCQU"
      },
      "execution_count": null,
      "outputs": []
    },
    {
      "cell_type": "code",
      "source": [
        "\n",
        "list_depth=range(1,100)\n",
        "list_f1= []\n",
        "list_precesion= []\n",
        "for i in list_depth:\n",
        "  modeloArbol =  DecisionTreeClassifier(max_depth=i, random_state=0)\n",
        "  \n",
        "  modeloArbol.fit(X_Arbol, Y_Arbol)\n",
        "\n",
        "\n",
        "  precision = cross_val_score(modeloArbol,X_Arbol,Y_Arbol,cv=10,scoring='accuracy')#para precisión en la clasificación\n",
        "  \n",
        "  f1 = cross_val_score(modeloArbol,X_Arbol,Y_Arbol,cv=10,scoring='f1')# para la función de pérdida de regresión\n",
        " \n",
        "  list_precesion.append(precision.mean())\n",
        "  list_f1.append(f1.mean())\n",
        "  \n",
        "#Dibujo\n",
        "plt.subplot(1,2,1)\n",
        "plt.plot(list_depth,list_precesion)\n",
        "plt.xlabel(\"Valor de la profundidad\")\n",
        "plt.ylabel(\"Cross-validates Accuracy\")\n",
        "plt.subplot(1,2,2)\n",
        "plt.plot(list_depth,list_f1)\n",
        "plt.xlabel(\"Valor de la profundidad\")\n",
        "plt.ylabel(\"Cross-validates F1\")\n",
        "plt.show()\n"
      ],
      "metadata": {
        "id": "fAtOuegbej37",
        "colab": {
          "base_uri": "https://localhost:8080/",
          "height": 279
        },
        "outputId": "721bf05b-9043-4598-ef13-11f8b5452f68"
      },
      "execution_count": null,
      "outputs": [
        {
          "output_type": "display_data",
          "data": {
            "image/png": "[encoded data removed]",
            "text/plain": [
              "<Figure size 432x288 with 2 Axes>"
            ]
          },
          "metadata": {
            "needs_background": "light"
          }
        }
      ]
    },
    {
      "cell_type": "markdown",
      "source": [
        "REDES NEURONALES \n"
      ],
      "metadata": {
        "id": "kszFwZbzTc6x"
      }
    },
    {
      "cell_type": "code",
      "source": [
        "X_ANN=X_Entrenamiento_res[:,:-1]\n",
        "Y_ANN = X_Entrenamiento_res[:, -1]"
      ],
      "metadata": {
        "id": "ut1FKGa1GzhN"
      },
      "execution_count": null,
      "outputs": []
    },
    {
      "cell_type": "markdown",
      "source": [
        "REDES NEURONALES: CON 1 CAPA\n",
        "\n",
        "\n"
      ],
      "metadata": {
        "id": "1k2JJSxL7prH"
      }
    },
    {
      "cell_type": "markdown",
      "source": [
        "Usamos 20, 50 y 100 neuronas"
      ],
      "metadata": {
        "id": "ThOdK9bo74vQ"
      }
    },
    {
      "cell_type": "code",
      "source": [
        "from sklearn.neural_network import MLPClassifier\n",
        "\n",
        "numero_neuronas = np.array([20, 50, 100])\n",
        "\n",
        "list_f1= []\n",
        "list_precesion= []\n",
        "#Hay que cambiar el numero de capas y el numero de neuronas\n",
        "\n",
        "for numero in numero_neuronas:\n",
        "  print(\"\\nTrabajando con \", numero, \" de neuronas...\")\n",
        "  modeloANN = MLPClassifier(solver='adam',hidden_layer_sizes =numero,max_iter=1000,batch_size=24, random_state=0)  \n",
        "\n",
        "  modeloANN.fit(X_ANN, Y_ANN)\n",
        "  \n",
        "  #print(f\"Train coefficient of determination R^2: {round(modeloANN.score(X_ANN, Y_ANN)*100, 2)}%\")\n",
        "  precision = cross_val_score(modeloANN,X_ANN,Y_ANN,cv=10,scoring='accuracy')#para precisión en la clasificación\n",
        "  f1 = cross_val_score(modeloANN,X_ANN,Y_ANN,cv=10,scoring='f1')# para la función de pérdida de regresión\n",
        "  print(\"El valor de la precision media es: \", precision.mean())\n",
        "  print(\"El valor de la F1 media  es: \",f1.mean() )\n",
        "  list_precesion.append(precision.mean())\n",
        "  list_f1.append(f1.mean())\n",
        "\n",
        "\n",
        "#Dibujo\n",
        "print(\"Imprimimos el grafico\")\n",
        "plt.subplot(1,2,1)\n",
        "plt.plot(numero_neuronas,list_precesion)\n",
        "plt.xlabel(\"Valor de la profundidad\")\n",
        "plt.ylabel(\"Cross-validates Accuracy\")\n",
        "plt.subplot(1,2,2)\n",
        "plt.plot(numero_neuronas,list_f1)\n",
        "plt.xlabel(\"Valor de la profundidad\")\n",
        "plt.ylabel(\"Cross-validates F1\")\n",
        "plt.show()"
      ],
      "metadata": {
        "colab": {
          "base_uri": "https://localhost:8080/",
          "height": 505
        },
        "id": "Fi2mDwq-Tjfn",
        "outputId": "bbf99153-d252-4654-cba1-36fe54a6050c"
      },
      "execution_count": null,
      "outputs": [
        {
          "output_type": "stream",
          "name": "stdout",
          "text": [
            "\n",
            "Trabajando con  20  de neuronas...\n",
            "El valor de la precision media es:  0.8337837837837838\n",
            "El valor de la F1 media  es:  0.8797830995122586\n",
            "\n",
            "Trabajando con  50  de neuronas...\n",
            "El valor de la precision media es:  0.7782282282282283\n",
            "El valor de la F1 media  es:  0.843449117252655\n",
            "\n",
            "Trabajando con  100  de neuronas...\n",
            "El valor de la precision media es:  0.7865615615615615\n",
            "El valor de la F1 media  es:  0.8509660877468785\n",
            "Imprimimos el grafico\n"
          ]
        },
        {
          "output_type": "display_data",
          "data": {
            "image/png": "[encoded data removed]",
            "text/plain": [
              "<Figure size 432x288 with 2 Axes>"
            ]
          },
          "metadata": {
            "needs_background": "light"
          }
        }
      ]
    },
    {
      "cell_type": "code",
      "source": [
        "print(\"Trabajando con 1 capa obtenemos: \\n Usando 20 neuronas : Precision: \",\n",
        "      list_precesion[0], \", F1: \", list_f1[0] )\n",
        "print(\" Usando 50 neuronas : Precision: \",\n",
        "      list_precesion[1], \", F1: \", list_f1[1] )\n",
        "print(\" Usando 100 neuronas : Precision: \",\n",
        "      list_precesion[2], \", F1: \", list_f1[2] )"
      ],
      "metadata": {
        "colab": {
          "base_uri": "https://localhost:8080/"
        },
        "id": "7QfupbA_-PDZ",
        "outputId": "75c7e41d-6728-46e6-db9b-6b61e9b5a3ea"
      },
      "execution_count": null,
      "outputs": [
        {
          "output_type": "stream",
          "name": "stdout",
          "text": [
            "Trabajando con 1 capa obtenemos: \n",
            " Usando 20 neuronas : Precision:  0.8337837837837838 , F1:  0.8797830995122586\n",
            " Usando 50 neuronas : Precision:  0.7782282282282283 , F1:  0.843449117252655\n",
            " Usando 100 neuronas : Precision:  0.7865615615615615 , F1:  0.8509660877468785\n"
          ]
        }
      ]
    },
    {
      "cell_type": "markdown",
      "source": [
        ""
      ],
      "metadata": {
        "id": "V4rGn92s-Nw4"
      }
    },
    {
      "cell_type": "markdown",
      "source": [
        "CON 2 CAPAS\n"
      ],
      "metadata": {
        "id": "ELr8jR3y76q0"
      }
    },
    {
      "cell_type": "markdown",
      "source": [
        "Con redes neuronales de 2 capas, usamos 3 configuraciones:\n",
        "\n",
        "\n",
        "*   1º capa con 50 neuronas y 2º capa con 20 neuronas\n",
        "*   1º capa con 50 neuronas y 2º capa con 50 neuronas\n",
        "*   1º capa con 100 neuronas y 2º capa con 50 neuronas\n",
        "\n",
        "\n"
      ],
      "metadata": {
        "id": "0AyIHWn78Tdp"
      }
    },
    {
      "cell_type": "code",
      "source": [
        "list_f1Capa2= []\n",
        "list_precesionCapa2= []\n",
        "#Hay que cambiar el numero de capas y el numero de neuronas\n",
        "#2 Capas, 50(1 capa) 20 (2 capa) y 50(1 capa) 50(2 capa)\n",
        "numero_neuronasCapa1= np.array([50, 50, 100])\n",
        "numero_neuronasCapa2 = np.array([20, 50, 50])\n",
        "\n",
        "for numero in range(0,3):\n",
        "  print(\"\\nTrabajando con\")\n",
        "  print(\"Capa 1 (numero neuronas): \",numero_neuronasCapa1[numero])\n",
        "  print(\"Capa 2 (numero neuronas): \", numero_neuronasCapa2[numero])\n",
        "  modeloANN = MLPClassifier(solver='adam',hidden_layer_sizes=(numero_neuronasCapa1[numero],numero_neuronasCapa2[numero]),\n",
        "                            max_iter=1000,batch_size=24, random_state= 0)  \n",
        "\n",
        "  modeloANN.fit(X_ANN, Y_ANN)\n",
        "    \n",
        "    #print(f\"Train coefficient of determination R^2: {round(modeloANN.score(X_ANN, Y_ANN)*100, 2)}%\")\n",
        "  precision = cross_val_score(modeloANN,X_ANN,Y_ANN,cv=10,scoring='accuracy')#para precisión en la clasificación\n",
        "  f1 = cross_val_score(modeloANN,X_ANN,Y_ANN,cv=10,scoring='f1')# para la función de pérdida de regresión\n",
        "  print(\"El valor de la precision media es: \", precision.mean())\n",
        "  print(\"El valor de la F1 media  es: \",f1.mean() )\n",
        "  list_precesionCapa2.append(precision.mean())\n",
        "  list_f1Capa2.append(f1.mean())\n",
        "\n"
      ],
      "metadata": {
        "colab": {
          "base_uri": "https://localhost:8080/"
        },
        "id": "RO36fwkuSLin",
        "outputId": "6efe42e1-91fd-43cc-fe95-2c0656a28776"
      },
      "execution_count": null,
      "outputs": [
        {
          "output_type": "stream",
          "name": "stdout",
          "text": [
            "\n",
            "Trabajando con\n",
            "Capa 1 (numero neuronas):  50\n",
            "Capa 2 (numero neuronas):  20\n",
            "El valor de la precision media es:  0.76996996996997\n",
            "El valor de la F1 media  es:  0.8221016923321691\n",
            "\n",
            "Trabajando con\n",
            "Capa 1 (numero neuronas):  50\n",
            "Capa 2 (numero neuronas):  50\n",
            "El valor de la precision media es:  0.7783783783783784\n",
            "El valor de la F1 media  es:  0.8439417686033603\n",
            "\n",
            "Trabajando con\n",
            "Capa 1 (numero neuronas):  100\n",
            "Capa 2 (numero neuronas):  50\n",
            "El valor de la precision media es:  0.7644144144144145\n",
            "El valor de la F1 media  es:  0.8208950666276674\n"
          ]
        }
      ]
    },
    {
      "cell_type": "code",
      "source": [
        "\n",
        "print(\"Trabajando con 2 capas obtenemos: \\n Usando en la primera capa 50 neuronas y en la segunda 20: Precision: \",\n",
        "      list_precesionCapa2[0], \", F1: \", list_f1Capa2[0] )\n",
        "print(\" Usando en la primera capa 50 neuronas y en la segunda 50: Precision: \",\n",
        "      list_precesionCapa2[1], \", F1: \", list_f1Capa2[1] )\n",
        "print(\" Usando en la primera capa 100 neuronas y en la segunda 50: Precision: \",\n",
        "      list_precesionCapa2[2], \", F1: \", list_f1Capa2[2] )"
      ],
      "metadata": {
        "colab": {
          "base_uri": "https://localhost:8080/"
        },
        "id": "b3f1xcMWyvmN",
        "outputId": "9ca69b4c-40b1-4fe1-f6a1-2996647a9f8a"
      },
      "execution_count": null,
      "outputs": [
        {
          "output_type": "stream",
          "name": "stdout",
          "text": [
            "Trabajando con 2 capas obtenemos: \n",
            " Usando en la primera capa 50 neuronas y en la segunda 20: Precision:  0.76996996996997 , F1:  0.8221016923321691\n",
            " Usando en la primera capa 50 neuronas y en la segunda 50: Precision:  0.7783783783783784 , F1:  0.8439417686033603\n",
            " Usando en la primera capa 100 neuronas y en la segunda 50: Precision:  0.7644144144144145 , F1:  0.8208950666276674\n"
          ]
        }
      ]
    },
    {
      "cell_type": "markdown",
      "source": [
        "CON 3 CAPAS"
      ],
      "metadata": {
        "id": "px_x85X5BoQ-"
      }
    },
    {
      "cell_type": "markdown",
      "source": [
        "Con redes neuronales de 3 capas, usamos 3 configuraciones:\n",
        "\n",
        "\n",
        "*   1º capa con 20 neuronas, 2º capa con 20 neuronas y 3º capa con 20 neuronas\n",
        "*   1º capa con 50 neuronas, 2º capa con 50 neuronas y 3º capa con 50 neuronas\n",
        "*   1º capa con 100 neuronas, 2º capa con 100 neuronas y 3º capa con 100 neuronas\n",
        "\n",
        "\n"
      ],
      "metadata": {
        "id": "1Xjk7h4qB0Xg"
      }
    },
    {
      "cell_type": "code",
      "source": [
        "numero_neuronasCapa3= np.array([20, 50, 100])\n",
        "\n",
        "list_f1Capa3= []\n",
        "list_precesionCapa3= []\n",
        "\n",
        "for numero in range(0,3):\n",
        "  print(\"\\nTrabajando con\")\n",
        "  print(\"Capa 1 (numero neuronas): \",numero_neuronasCapa3[numero])\n",
        "  print(\"Capa 2 (numero neuronas): \", numero_neuronasCapa3[numero])\n",
        "  print(\"Capa 3 (numero neuronas): \", numero_neuronasCapa3[numero])\n",
        "  modeloANN = MLPClassifier(solver='adam',hidden_layer_sizes=(numero_neuronasCapa3[numero],numero_neuronasCapa3[numero],numero_neuronasCapa3[numero]),\n",
        "                            max_iter=1000,batch_size=24, random_state= 0)  \n",
        "\n",
        "  modeloANN.fit(X_ANN, Y_ANN)\n",
        "    \n",
        "    #print(f\"Train coefficient of determination R^2: {round(modeloANN.score(X_ANN, Y_ANN)*100, 2)}%\")\n",
        "  precision = cross_val_score(modeloANN,X_ANN,Y_ANN,cv=10,scoring='accuracy')#para precisión en la clasificación\n",
        "  f1 = cross_val_score(modeloANN,X_ANN,Y_ANN,cv=10,scoring='f1')# para la función de pérdida de regresión\n",
        "  print(\"El valor de la precision media es: \", precision.mean())\n",
        "  print(\"El valor de la F1 media  es: \",f1.mean() )\n",
        "  list_precesionCapa3.append(precision.mean())\n",
        "  list_f1Capa3.append(f1.mean())\n",
        "\n",
        "\n"
      ],
      "metadata": {
        "colab": {
          "base_uri": "https://localhost:8080/"
        },
        "id": "RIUGmePovEqD",
        "outputId": "6be3430d-d05b-4509-f226-dd4a5a376bf9"
      },
      "execution_count": null,
      "outputs": [
        {
          "output_type": "stream",
          "name": "stdout",
          "text": [
            "\n",
            "Trabajando con\n",
            "Capa 1 (numero neuronas):  20\n",
            "Capa 2 (numero neuronas):  20\n",
            "Capa 3 (numero neuronas):  20\n",
            "El valor de la precision media es:  0.7894144144144144\n",
            "El valor de la F1 media  es:  0.8425937308733868\n",
            "\n",
            "Trabajando con\n",
            "Capa 1 (numero neuronas):  50\n",
            "Capa 2 (numero neuronas):  50\n",
            "Capa 3 (numero neuronas):  50\n",
            "El valor de la precision media es:  0.7977477477477478\n",
            "El valor de la F1 media  es:  0.8491101414367084\n",
            "\n",
            "Trabajando con\n",
            "Capa 1 (numero neuronas):  100\n",
            "Capa 2 (numero neuronas):  100\n",
            "Capa 3 (numero neuronas):  100\n",
            "El valor de la precision media es:  0.8005255255255257\n",
            "El valor de la F1 media  es:  0.8545585953017797\n"
          ]
        }
      ]
    },
    {
      "cell_type": "code",
      "source": [
        "\n",
        "print(\"Trabajando con 3 capas obtenemos: \\n Usando en la primera capa 20 neuronas, en la segunda 20 y en la tercera 20: Precision: \",\n",
        "      list_precesionCapa3[0], \", F1: \", list_f1Capa3[0] )\n",
        "print(\" Usando en la primera capa 50 neuronas, en la segunda 50 y en la tercera 50: Precision: \",\n",
        "      list_precesionCapa3[1], \", F1: \", list_f1Capa3[1] )\n",
        "print(\" Usando en la primera capa 100 neuronas, en la segunda 100 y en la tercera 100: Precision: \",\n",
        "      list_precesionCapa3[2], \", F1: \", list_f1Capa3[2] )"
      ],
      "metadata": {
        "colab": {
          "base_uri": "https://localhost:8080/"
        },
        "id": "GayzPO4_DX0y",
        "outputId": "2ac47db1-7ffa-4af8-bf19-f915bce5fd8d"
      },
      "execution_count": null,
      "outputs": [
        {
          "output_type": "stream",
          "name": "stdout",
          "text": [
            "Trabajando con 3 capas obtenemos: \n",
            " Usando en la primera capa 20 neuronas, en la segunda 20 y en la tercera 20: Precision:  0.7894144144144144 , F1:  0.8425937308733868\n",
            " Usando en la primera capa 50 neuronas, en la segunda 50 y en la tercera 50: Precision:  0.7977477477477478 , F1:  0.8491101414367084\n",
            " Usando en la primera capa 100 neuronas, en la segunda 100 y en la tercera 100: Precision:  0.8005255255255257 , F1:  0.8545585953017797\n"
          ]
        }
      ]
    },
    {
      "cell_type": "markdown",
      "source": [
        "5. Comparar,\t con\t criterios basado\t en\t la\t matriz\t de\t confusión los\t resultados\tobtenidos\t con\t los\t distintos\t modelos\t sobre\t el\t conjunto\t de\t test.\t Se deberá\t seleccionar el\tmejor modelo\t(knn,\tBayes,\tetc.) indicando\tclaramente\tlos\tmotivos\t por\tlos\tcuales\tse\thace\tdicha elección\t(2\tpuntos,\t20\tlíneas\tmáximo)\t\n"
      ],
      "metadata": {
        "id": "TlWVZzSTefnL"
      }
    },
    {
      "cell_type": "markdown",
      "source": [
        "KNN: Evaluando el conjunto de test\n"
      ],
      "metadata": {
        "id": "rNiSp9ZFjbjc"
      }
    },
    {
      "cell_type": "code",
      "source": [
        "accuracy_test=k.score(X_test,Y_test)\n",
        "print (\"Test set accuracy: {:.2f}\".format(accuracy_test), \"\\n\")"
      ],
      "metadata": {
        "colab": {
          "base_uri": "https://localhost:8080/"
        },
        "id": "71SGbaKwja6v",
        "outputId": "e70ca151-2904-4a0b-a72f-a0c2a50a2514"
      },
      "execution_count": null,
      "outputs": [
        {
          "output_type": "stream",
          "name": "stdout",
          "text": [
            "Test set accuracy: 0.81 \n",
            "\n"
          ]
        }
      ]
    },
    {
      "cell_type": "markdown",
      "source": [
        "Naive Bayes: Evaluando el conjunto de test\n"
      ],
      "metadata": {
        "id": "5yrj4agHnJ0O"
      }
    },
    {
      "cell_type": "code",
      "source": [
        "X_testNB = X_test[:,:-1]  \n",
        "Y_testNB = X_test[:, -1]\n",
        "\n",
        "accuracy_testNB=modeloNB.score(X_test,Y_test)\n",
        "print (\"Test set accuracy: {:.2f}\".format(accuracy_testNB), \"\\n\")\n",
        "\n",
        "Y_pred_test=modeloNB.predict(X_test)\n",
        "print(\"Porcentaje de predicciones correctas(test)\",100*metrics.accuracy_score(Y_test,Y_pred_test))\n"
      ],
      "metadata": {
        "colab": {
          "base_uri": "https://localhost:8080/"
        },
        "id": "C5n-hfdAnNlW",
        "outputId": "b98b7a02-153b-4996-ea4e-56bc19f703ef"
      },
      "execution_count": null,
      "outputs": [
        {
          "output_type": "stream",
          "name": "stdout",
          "text": [
            "Test set accuracy: 0.94 \n",
            "\n",
            "Porcentaje de predicciones correctas(test) 93.75\n"
          ]
        }
      ]
    },
    {
      "cell_type": "code",
      "source": [
        "X_testArbol = X_test[:,:-1]  \n",
        "Y_testArbol = X_test[:,-1]\n",
        "accuracy_testArbol=modeloArbol.score(X_testArbol,Y_testArbol)\n",
        "print (\"Test set accuracy: {:.2f}\".format(accuracy_testArbol), \"\\n\")\n",
        "\n",
        "Y_pred_test=modeloArbol.predict(X_testArbol)\n",
        "print(\"Porcentaje de predicciones correctas(test)\",100*metrics.accuracy_score(Y_testArbol,Y_pred_test))"
      ],
      "metadata": {
        "colab": {
          "base_uri": "https://localhost:8080/"
        },
        "id": "1EKeGzee3EKF",
        "outputId": "538136be-2f70-49e1-b86b-ec258f97a2d6"
      },
      "execution_count": null,
      "outputs": [
        {
          "output_type": "stream",
          "name": "stdout",
          "text": [
            "Test set accuracy: 0.88 \n",
            "\n",
            "Porcentaje de predicciones correctas(test) 87.5\n"
          ]
        }
      ]
    },
    {
      "cell_type": "markdown",
      "source": [
        "ANNs: Evaluando el conjunto de test"
      ],
      "metadata": {
        "id": "nnaXVfZ58ZnV"
      }
    },
    {
      "cell_type": "code",
      "source": [
        "X_testANN = X_test[:,:-1]  \n",
        "Y_testANN = X_test[:,-1]\n",
        "accuracy_testANN=modeloANN.score(X_testANN,Y_testANN)\n",
        "print (\"Test set accuracy: {:.2f}\".format(accuracy_testANN), \"\\n\")\n",
        "\n",
        "Y_pred_test=modeloANN.predict(X_testANN)\n",
        "print(\"Porcentaje de predicciones correctas(test)\",100*metrics.accuracy_score(Y_testANN,Y_pred_test))"
      ],
      "metadata": {
        "colab": {
          "base_uri": "https://localhost:8080/"
        },
        "id": "tBXBYga18mxv",
        "outputId": "ad5dd387-df44-4c8e-bae3-f4f0b92644bd"
      },
      "execution_count": null,
      "outputs": [
        {
          "output_type": "stream",
          "name": "stdout",
          "text": [
            "Test set accuracy: 0.94 \n",
            "\n",
            "Porcentaje de predicciones correctas(test) 93.75\n"
          ]
        }
      ]
    },
    {
      "cell_type": "code",
      "source": [
        "numero_neuronasCapa3= np.array([20, 50, 100])\n",
        "for numero in range(1,3):\n",
        "  print(numero)\n",
        "  print(\"numero \",numero_neuronasCapa3[numero] )\n"
      ],
      "metadata": {
        "colab": {
          "base_uri": "https://localhost:8080/"
        },
        "id": "aYvsCVbTCcnM",
        "outputId": "6c1ba43a-6025-4b00-e03e-436380225829"
      },
      "execution_count": null,
      "outputs": [
        {
          "output_type": "stream",
          "name": "stdout",
          "text": [
            "1\n",
            "numero  50\n",
            "2\n",
            "numero  100\n"
          ]
        }
      ]
    },
    {
      "cell_type": "markdown",
      "source": [
        "6. Empleando\t el\t conjunto\t de\t validación indicar\t si\t la\t elección\t realizada\t\n",
        "anteriormente\t es\t consistente\t explicando,\t en\t caso\t positivo\t o\t negativo\t los\t\n",
        "resultados\t obtenidos\t y\t las\t posibles\t mejoras\t al\t procedimiento. (1\t punto,\t 10\t\n",
        "líneas\tmáximo)"
      ],
      "metadata": {
        "id": "eNBfCT2hcI2d"
      }
    },
    {
      "cell_type": "markdown",
      "source": [
        "KNN: Evaluando el conjunto de validación\n"
      ],
      "metadata": {
        "id": "KbepOrXNcbIT"
      }
    },
    {
      "cell_type": "code",
      "source": [
        "accuracy_test=k.score(X_validation,Y_validation)\n",
        "print (\"Validation set accuracy: {:.2f}\".format(accuracy_test), \"\\n\")"
      ],
      "metadata": {
        "id": "CWIUUIHQcckD",
        "colab": {
          "base_uri": "https://localhost:8080/"
        },
        "outputId": "0bf1aee9-f077-42e5-e293-3053ec01fb40"
      },
      "execution_count": null,
      "outputs": [
        {
          "output_type": "stream",
          "name": "stdout",
          "text": [
            "Validation set accuracy: 0.93 \n",
            "\n"
          ]
        }
      ]
    },
    {
      "cell_type": "markdown",
      "source": [
        "Naïve Bayes: Evaluando el conjunto de validación"
      ],
      "metadata": {
        "id": "G6rYA3FwfBhF"
      }
    },
    {
      "cell_type": "code",
      "source": [
        "X_validNB = X_validation[:,:-1]  \n",
        "Y_validNB = X_validation[:, -1]\n",
        "\n",
        "accuracy_validNB=modeloNB.score(X_validation,Y_validation)\n",
        "print(\"Validation set accuracy: {:.2f}\".format(accuracy_validNB), \"\\n\")\n",
        "\n",
        "Y_pred_valid=modeloNB.predict(X_validation)\n",
        "print(\"Porcentaje de predicciones correctas (validación):\",100*metrics.accuracy_score(Y_validation,Y_pred_valid))\n"
      ],
      "metadata": {
        "colab": {
          "base_uri": "https://localhost:8080/"
        },
        "id": "zAixSt6ofEK3",
        "outputId": "09bd25f3-09d1-4a97-d56f-8e2891f9f322"
      },
      "execution_count": null,
      "outputs": [
        {
          "output_type": "stream",
          "name": "stdout",
          "text": [
            "Validation set accuracy: 0.93 \n",
            "\n",
            "Porcentaje de predicciones correctas (validación): 93.33333333333333\n"
          ]
        }
      ]
    },
    {
      "cell_type": "markdown",
      "source": [
        "Árbol de clasificación: evaluando el conjunto de validación"
      ],
      "metadata": {
        "id": "habVhekff44_"
      }
    },
    {
      "cell_type": "code",
      "source": [
        "X_validArbol = X_validation[:,:-1]  \n",
        "Y_validArbol = X_validation[:,-1]\n",
        "accuracy_validArbol=modeloArbol.score(X_validArbol,Y_validArbol)\n",
        "print(\"Validation set accuracy: {:.2f}\".format(accuracy_validArbol), \"\\n\")\n",
        "\n",
        "Y_pred_valid=modeloArbol.predict(X_validArbol)\n",
        "print(\"Porcentaje de predicciones correctas (validación):\",100*metrics.accuracy_score(Y_validArbol,Y_pred_valid))"
      ],
      "metadata": {
        "colab": {
          "base_uri": "https://localhost:8080/"
        },
        "id": "Vx_5cy4yf6B7",
        "outputId": "6a1c3eb7-84ea-4d45-941d-2effc7bec135"
      },
      "execution_count": null,
      "outputs": [
        {
          "output_type": "stream",
          "name": "stdout",
          "text": [
            "Validation set accuracy: 1.00 \n",
            "\n",
            "Porcentaje de predicciones correctas (validación): 100.0\n"
          ]
        }
      ]
    },
    {
      "cell_type": "markdown",
      "source": [
        "ANN: evaluando el conjunto de validación"
      ],
      "metadata": {
        "id": "eVLdX3pZgSlE"
      }
    },
    {
      "cell_type": "code",
      "source": [
        "X_validANN = X_validation[:,:-1]  \n",
        "Y_validANN = X_validation[:,-1]\n",
        "accuracy_validANN=modeloANN.score(X_validANN,Y_validANN)\n",
        "print(\"Validation set accuracy: {:.2f}\".format(accuracy_validANN), \"\\n\")\n",
        "\n",
        "Y_pred_valid=modeloANN.predict(X_validANN)\n",
        "print(\"Porcentaje de predicciones correctas (validación):\",100*metrics.accuracy_score(Y_validANN,Y_pred_valid))"
      ],
      "metadata": {
        "colab": {
          "base_uri": "https://localhost:8080/"
        },
        "id": "JANno4-DgThG",
        "outputId": "0da5641a-d8d6-4dfb-cda7-4d5be17c0608"
      },
      "execution_count": null,
      "outputs": [
        {
          "output_type": "stream",
          "name": "stdout",
          "text": [
            "Validation set accuracy: 0.93 \n",
            "\n",
            "Porcentaje de predicciones correctas (validación): 93.33333333333333\n"
          ]
        }
      ]
    },
    {
      "cell_type": "markdown",
      "source": [
        "7. Emplear\tun\tmodelo\tlineal\tconsiderando\tlas\tcaracterísticas\tdel\tproblema dado\t\n",
        "(no\tcontinuidad\tde\tla\tvariable\tobjetivo) y empleando\talgún\tcriterio\tde\tselección\t\n",
        "de\t parámetros\t óptimos\t necesariamente explicado\t en\t case.\t Comparar\t los\t\n",
        "resultados\t con\t el\t modelo\t óptimo\t seleccionado considerando\t las\t métricas\t\n",
        "propuestas\tanteriormente."
      ],
      "metadata": {
        "id": "Y9T13opnhLhC"
      }
    },
    {
      "cell_type": "markdown",
      "source": [
        "Para ello, se empleará el modelo del Perceptrón"
      ],
      "metadata": {
        "id": "4V-mSaI3hphh"
      }
    },
    {
      "cell_type": "code",
      "source": [
        "class Perceptron:\n",
        "    def __init__(self, learning_rate=0.01, n_iters=1000):\n",
        "        self.lr = learning_rate\n",
        "        self.n_iters = n_iters\n",
        "        self.activation_func = self._unit_step_func\n",
        "        self.weights = None\n",
        "        self.bias = None\n",
        "\n",
        "    def fit(self, X, y):\n",
        "        n_samples, n_features = X.shape\n",
        "\n",
        "        # init parameters\n",
        "        self.weights = np.zeros(n_features)\n",
        "        self.bias = 0\n",
        "\n",
        "        y_ = np.array([1 if i > 0 else 0 for i in y])\n",
        "\n",
        "        for _ in range(self.n_iters):\n",
        "\n",
        "            for idx, x_i in enumerate(X):\n",
        "\n",
        "                linear_output = np.dot(x_i, self.weights) + self.bias\n",
        "                y_predicted = self.activation_func(linear_output)\n",
        "\n",
        "                # Perceptron update rule\n",
        "                update = self.lr * (y_[idx] - y_predicted)\n",
        "\n",
        "                self.weights += update * x_i\n",
        "                self.bias += update\n",
        "\n",
        "    def predict(self, X):\n",
        "        linear_output = np.dot(X, self.weights) + self.bias\n",
        "        y_predicted = self.activation_func(linear_output)\n",
        "        return y_predicted\n",
        "\n",
        "    def _unit_step_func(self, x):\n",
        "        return np.where(x >= 0, 1, 0)\n",
        "\n",
        "datosCancerPulmon = pd.read_csv(\"/content/DatosCancerPulmon.csv\")\n",
        "datosCancerPulmon2 = datosCancerPulmon.copy()\n",
        "X= np.array(datosCancerPulmon)\n",
        "Y = X[:, -1]\n",
        "print(len(X))\n",
        "print(len(Y))\n",
        "X_Entrenamiento, X_test, Y_Entrenamiento, Y_test = train_test_split(X, Y, test_size=0.2, random_state=123)\n",
        "\n",
        "# Testing\n",
        "if __name__ == \"__main__\":\n",
        "    # Imports\n",
        "    import matplotlib.pyplot as plt\n",
        "    from sklearn.model_selection import train_test_split\n",
        "    from sklearn import datasets\n",
        "\n",
        "    def accuracy(y_true, y_pred):\n",
        "        accuracy = np.sum(y_true == y_pred) / len(y_true)\n",
        "        return accuracy\n",
        "\n",
        "    \"\"\"X, y = datasets.make_blobs(\n",
        "        n_samples=150, n_features=2, centers=2, cluster_std=1.05, random_state=2\n",
        "    )\n",
        "    X_train, X_test, y_train, y_test = train_test_split(\n",
        "        X, y, test_size=0.2, random_state=123\n",
        "    )\"\"\"\n",
        "\n",
        "    p = Perceptron(learning_rate=0.01, n_iters=1000)\n",
        "    p.fit(X_Entrenamiento, Y_Entrenamiento)\n",
        "    predictions = p.predict(X_test)\n",
        "\n",
        "    print(\"Perceptron classification accuracy\", accuracy(Y_test, predictions))\n",
        "\n",
        "    \"\"\"fig = plt.figure()\n",
        "    ax = fig.add_subplot(1, 1, 1)\n",
        "    plt.scatter(X_Entrenamiento[:, 0], X_Entrenamiento[:, 1], marker=\"o\", c=Y_Entrenamiento)\n",
        "\n",
        "    x0_1 = np.amin(X_Entrenamiento[:, 0])\n",
        "    x0_2 = np.amax(X_Entrenamiento[:, 0])\n",
        "\n",
        "    x1_1 = (-p.weights[0] * x0_1 - p.bias) / p.weights[1]\n",
        "    x1_2 = (-p.weights[0] * x0_2 - p.bias) / p.weights[1]\n",
        "\n",
        "    ax.plot([x0_1, x0_2], [x1_1, x1_2], \"k\")\n",
        "\n",
        "    ymin = np.amin(X_Entrenamiento[:, 1])\n",
        "    ymax = np.amax(X_Entrenamiento[:, 1])\n",
        "    ax.set_ylim([ymin - 3, ymax + 3])\n",
        "\n",
        "    plt.show()\"\"\""
      ],
      "metadata": {
        "colab": {
          "base_uri": "https://localhost:8080/"
        },
        "id": "ITcQ_jagxoV-",
        "outputId": "7ed29167-0523-49a7-c6e2-d7496ab54832"
      },
      "execution_count": null,
      "outputs": [
        {
          "output_type": "stream",
          "name": "stdout",
          "text": [
            "307\n",
            "307\n",
            "Perceptron classification accuracy 1.0\n"
          ]
        }
      ]
    }
  ]
}